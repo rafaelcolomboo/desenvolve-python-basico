{
 "cells": [
  {
   "cell_type": "markdown",
   "id": "a9d28135",
   "metadata": {},
   "source": [
    "# Módulo 2\n",
    "## 2.1 Variáveis\n",
    "\n",
    "### Q1. \n",
    "Selecione todos os itens a seguir que contém nomes válidos de variáveis. Lembre-se que alguns nomes com estrutura válida são palavras reservadas da linguagem e portanto não podem nomear variáveis.\n",
    "\n",
    "    a) nome_completo \n",
    "    b) quantidade@produtos\t\n",
    "    c) idade\t\n",
    "    d) soma idades \n",
    "    e) MediaNotas\n",
    "    f) _tipo\n",
    "    g) 2total\n",
    "    h) lambda"
   ]
  },
  {
   "cell_type": "code",
   "execution_count": 1,
   "id": "23ab7106",
   "metadata": {},
   "outputs": [
    {
     "name": "stdout",
     "output_type": "stream",
     "text": [
      " a c e f h \n"
     ]
    }
   ],
   "source": [
    "# Preencha o print com as alternativas corretas\n",
    "# separadas por espaços em branco.\n",
    "# Ex: print(\"a b c\")\n",
    "print(\" a c e f h \")"
   ]
  },
  {
   "cell_type": "markdown",
   "id": "f56d2b28",
   "metadata": {},
   "source": [
    "---\n",
    "### Q2. \n",
    "Dados os scripts a seguir, faça: \n",
    "- Para os scripts corretos escreva o resultado impresso ao final da execução\n",
    "- Para os incorretos descreva todos os erros identificados apontando a linha onde cada erro acontece.\n"
   ]
  },
  {
   "cell_type": "markdown",
   "id": "a2f2461b",
   "metadata": {},
   "source": [
    "```python\n",
    "# Script 1\n",
    "x = 10\n",
    "y = x + 2\n",
    "print(y - 5)\n",
    "```"
   ]
  },
  {
   "cell_type": "code",
   "execution_count": null,
   "id": "4371ac7b",
   "metadata": {},
   "outputs": [],
   "source": [
    "# preencha o print com sua resposta\n",
    "print(\" 7 \")"
   ]
  },
  {
   "cell_type": "markdown",
   "id": "b38baa9c",
   "metadata": {},
   "source": [
    "```python\n",
    "# Script 2\n",
    "soma = n1 + n2\n",
    "print(soma) \n",
    "```"
   ]
  },
  {
   "cell_type": "code",
   "execution_count": null,
   "id": "82b5064b",
   "metadata": {},
   "outputs": [],
   "source": [
    "# preencha o print com sua resposta\n",
    "print(\" não imprimira a soma pois n1 e n2 não possuem nenhum valor atrelado a ele para esta soma \")"
   ]
  },
  {
   "cell_type": "markdown",
   "id": "c2f3ab7a",
   "metadata": {},
   "source": [
    "```python\n",
    "# Script 3\n",
    "a = 10\n",
    "a = a + 1\n",
    "print(a)\n",
    "```"
   ]
  },
  {
   "cell_type": "code",
   "execution_count": null,
   "id": "7b9db0c7",
   "metadata": {},
   "outputs": [],
   "source": [
    "# preencha o print com sua resposta\n",
    "print(\" 10 \")"
   ]
  },
  {
   "cell_type": "markdown",
   "id": "dd40d2c9",
   "metadata": {},
   "source": [
    "```python\n",
    "# Script 4\n",
    "saldo da conta = 1500\n",
    "0.1 = juros\n",
    "print(saldo da conta * juros)\n",
    "```"
   ]
  },
  {
   "cell_type": "code",
   "execution_count": null,
   "id": "2dec64ac",
   "metadata": {},
   "outputs": [],
   "source": [
    "# preencha o print com sua resposta\n",
    "print(\" 150 \")"
   ]
  },
  {
   "cell_type": "markdown",
   "id": "9ba1f2a8",
   "metadata": {},
   "source": [
    "---\n",
    "### Q3.\n",
    "Declare três variáveis, `num1`, `num2` e `num3`, com valores inteiros numéricos de sua escolha. Calcule e imprima a média desses três números. Utilize a fórmula: `(num1 + num2 + num3) / 3`."
   ]
  },
  {
   "cell_type": "code",
   "execution_count": null,
   "id": "e1963351",
   "metadata": {},
   "outputs": [],
   "source": [
    "## Escreva e execute seu código aqui\n",
    "num1 = 20\n",
    "num2= 40\n",
    "num3= 60\n",
    "R= (num1 + num2 + num3) / 3\n",
    "print(\"O valor da expressão é\")\n",
    "print(R)"
   ]
  },
  {
   "cell_type": "markdown",
   "id": "7940ba20",
   "metadata": {},
   "source": [
    "--- \n",
    "### Q4.\n",
    "Escreva um script python que:\n",
    "- Armazene em uma variável uma velocidade de 90 km/h\n",
    "- Calcule e armazene o equivalente em m/s\n",
    "    - Divida o valor original por 3.6 para obter o resultado em m/s. Em python a sintaxe da divisão e atribuição é c = a / b \n",
    "- Imprima na tela a velocidade o resultado m/s\n"
   ]
  },
  {
   "cell_type": "code",
   "execution_count": null,
   "id": "dd4fe7ae",
   "metadata": {},
   "outputs": [],
   "source": [
    "## Escreva e execute seu código aqui\n",
    "Vm = 90\n",
    "Vms = Vm/3.6\n",
    "print(\"O valor em m/s é\")\n",
    "print(Vms)\n"
   ]
  },
  {
   "cell_type": "markdown",
   "id": "cc714a42",
   "metadata": {},
   "source": [
    "---\n",
    "### Q5.\n",
    "Escreva um script python que:\n",
    "- Armazene o seu nome em uma variável\n",
    "    - Dica: para armazenar textos em variáveis basta colocar a palavra desejada entre aspas, ex: \"Camila\", à direita do operador de atribuição.\n",
    "- Imprima o texto \"Meu nome é:\"\n",
    "- Imprima a variável com seu nome\n"
   ]
  },
  {
   "cell_type": "code",
   "execution_count": 2,
   "id": "10a6a794",
   "metadata": {},
   "outputs": [
    {
     "name": "stdout",
     "output_type": "stream",
     "text": [
      "Meu nome é\n",
      "Rafael Colombo\n"
     ]
    }
   ],
   "source": [
    "## Escreva e execute seu código aqui\n",
    "meu_nome = \"Rafael Colombo\"\n",
    "print(\"Meu nome é\")\n",
    "print(meu_nome)\n"
   ]
  },
  {
   "cell_type": "code",
   "execution_count": null,
   "id": "da304cf7-2d72-4be0-974c-f8d6b2cfe5a1",
   "metadata": {},
   "outputs": [],
   "source": []
  }
 ],
 "metadata": {
  "kernelspec": {
   "display_name": "Python 3 (ipykernel)",
   "language": "python",
   "name": "python3"
  },
  "language_info": {
   "codemirror_mode": {
    "name": "ipython",
    "version": 3
   },
   "file_extension": ".py",
   "mimetype": "text/x-python",
   "name": "python",
   "nbconvert_exporter": "python",
   "pygments_lexer": "ipython3",
   "version": "3.11.7"
  }
 },
 "nbformat": 4,
 "nbformat_minor": 5
}
