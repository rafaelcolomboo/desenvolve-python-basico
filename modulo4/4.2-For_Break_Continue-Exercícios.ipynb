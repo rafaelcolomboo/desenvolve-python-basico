{
 "cells": [
  {
   "cell_type": "markdown",
   "id": "29e89030",
   "metadata": {},
   "source": [
    "# Módulo 4 - Repetições\n",
    "\n",
    "## Aulas 4.2 - Comando ```for``` e 4.3 Break e Continue"
   ]
  },
  {
   "cell_type": "markdown",
   "id": "a45b42df",
   "metadata": {},
   "source": [
    "### Q1.\n",
    "\n",
    "Crie um programa em Python que utilize o comando for para imprimir os números de 10 a 1, em ordem decrescente."
   ]
  },
  {
   "cell_type": "code",
   "execution_count": 1,
   "id": "55a75b3d",
   "metadata": {},
   "outputs": [
    {
     "name": "stdout",
     "output_type": "stream",
     "text": [
      "10\n",
      "9\n",
      "8\n",
      "7\n",
      "6\n",
      "5\n",
      "4\n",
      "3\n",
      "2\n",
      "1\n"
     ]
    }
   ],
   "source": [
    "## Escreva e execute seu código aqui\n",
    "for numero in range(10, 0, -1):\n",
    "    print(numero)"
   ]
  },
  {
   "cell_type": "markdown",
   "id": "94b47c36",
   "metadata": {},
   "source": [
    "### Q2.\n",
    "\n",
    "Dado um número inteiro positivo informado pelo usuário, crie um programa em Python que utilize o comando for para calcular e exibir a soma dos números de 1 até o número informado. Ou seja, $1 + 2 + 3 + ... + n$\n",
    "\n",
    "Exemplo de interação:\n",
    "```\n",
    "Digite um número: 5\n",
    "A soma dos números de 1 a 5 é 15\n",
    "```\n"
   ]
  },
  {
   "cell_type": "code",
   "execution_count": null,
   "id": "45b71596",
   "metadata": {},
   "outputs": [],
   "source": [
    "## Escreva e execute seu código aqui\n",
    "# Solicita ao usuário que digite um número inteiro positivo\n",
    "numero = int(input(\"Digite um número: \"))\n",
    "\n",
    "# Inicializa a variável que armazenará a soma\n",
    "soma = 0\n",
    "\n",
    "# Usa um laço for para somar os números de 1 até o número informado\n",
    "for i in range(1, numero + 1):\n",
    "    soma += i\n",
    "\n",
    "# Exibe o resultado\n",
    "print(f\"A soma dos números de 1 a {numero} é {soma}\")\n"
   ]
  },
  {
   "cell_type": "markdown",
   "id": "0411d170",
   "metadata": {},
   "source": [
    "### Q3.\n",
    "\n",
    "Escreva um programa que lê 10 valores inteiros positivos do usuário e ao final imprime a média dos valores digitados com duas casas decimais.\n",
    "\n",
    "```\n",
    "Digite 10 números positivos:\n",
    "3\n",
    "2\n",
    "12\n",
    "14\n",
    "20\n",
    "42\n",
    "19\n",
    "0\n",
    "8\n",
    "1\n",
    "A média dos valores digitados é 12.10\n",
    "```"
   ]
  },
  {
   "cell_type": "code",
   "execution_count": null,
   "id": "3f72f358",
   "metadata": {},
   "outputs": [],
   "source": [
    "## Escreva e execute seu código aqui\n",
    "# Inicializa a lista para armazenar os valores digitados\n",
    "valores = []\n",
    "\n",
    "print(\"Digite 10 números positivos:\")\n",
    "\n",
    "# Lê 10 valores inteiros positivos do usuário\n",
    "for i in range(10):\n",
    "    while True:\n",
    "        numero = input()\n",
    "        if numero.isdigit():  # Verifica se a entrada é um número inteiro positivo\n",
    "            numero = int(numero)\n",
    "            valores.append(numero)\n",
    "            break\n",
    "        else:\n",
    "            print(\"Entrada inválida. Por favor, digite um número inteiro positivo.\")\n",
    "\n",
    "# Calcula a média dos valores\n",
    "media = sum(valores) / len(valores)\n",
    "\n",
    "# Exibe a média com duas casas decimais\n",
    "print(f\"A média dos valores digitados é {media:.2f}\")\n"
   ]
  },
  {
   "cell_type": "markdown",
   "id": "d62e27ff",
   "metadata": {},
   "source": [
    "### Q4.\n",
    "\n",
    "Você vai criar um sistema que registra os resultados dos jogos do Atlético MG ao longo de um campeonato. Seu sistema vai receber os resultados de todos os jogos do Galo, e deve calcular a pontuação do time sabendo que vitórias valem 3 pontos, empates 1 ponto e derrotas 0 pontos.\n",
    "\n",
    "Entrada: <br>\n",
    "A primeira linha de entrada é um inteiro N com a quantidade jogos do galo. Para cada jogo você deve ler 2 inteiros, o primeiro com a quantidade de gols do galo e o segundo com a quantidade de gols do time oponente. \n",
    "\n",
    "Saída: <br>\n",
    "Apresente a soma de vitórias, empates e derrotas do galo, junto com o cálculo da pontuação total.\n",
    "\n",
    "Ex:\n",
    "```\n",
    "Entrada:\n",
    "4\n",
    "2\n",
    "0\n",
    "1\n",
    "1\n",
    "0\n",
    "3\n",
    "1\n",
    "0\n",
    "\n",
    "Saída:\n",
    "Vitórias: 2\n",
    "Empates: 1\n",
    "Derrotas: 1\n",
    "Pontuação: 7\n",
    "\n",
    "```\n",
    "\n",
    "\n"
   ]
  },
  {
   "cell_type": "code",
   "execution_count": null,
   "id": "d3fdfc2a",
   "metadata": {},
   "outputs": [],
   "source": [
    "## Escreva e execute seu código aqui\n",
    "n= int(input())\n",
    "soma_vitoria=sv=0\n",
    "soma_empate=se=0\n",
    "soma_derrota=sd=0\n",
    "\n",
    "for jogo in range(n):\n",
    "    gols_frangas= int (input())\n",
    "    gols_op= int(input)\n",
    "\n",
    "    if gols_frangas>gols_op:\n",
    "        sv+=1\n",
    "    elif gols_frangas< gols_op:\n",
    "        sd+=1\n",
    "    else:\n",
    "        se+=1    \n",
    "\n",
    "print(\"Total de vitórias:\", sv) \n",
    "print(\"Total de empates:\", se)    \n",
    "print(\"Total de derrotas:\", sd)\n",
    "print(\"Pontuação:\", 3*sv+ se)    \n"
   ]
  },
  {
   "cell_type": "markdown",
   "id": "fc98604d",
   "metadata": {},
   "source": [
    "### Q5.\n",
    "\n",
    "Faça um programa que lê dois inteiros N e M, e imprime na tela um campo de batalha naval. O tabuleiro deve possuir N linhas e M colunas. A primeira linha é composta por um espaço em branco e o cabeçalho das colunas, ou seja, valores de 1 a M. As N linhas seguintes iniciam com o cabeçalho da linha, ou seja, seu número, seguido de M caracteres \"/\" (barra) indicando uma possível posição jogável. \n",
    "\n",
    "```\n",
    "Entrada:\n",
    "5\n",
    "4\n",
    "\n",
    "Saída:\n",
    "  1 2 3 4 \n",
    "1 / / / / \n",
    "2 / / / / \n",
    "3 / / / / \n",
    "4 / / / / \n",
    "5 / / / / \n",
    "```\n",
    "\n",
    "Para esse exercício, precisamos lembrar que o comando print implicitamente adiciona uma quebra de linha ao final da impressão. Podemos interferir no final da impressão adicionando mais uma entrada ao print. No exemplo, finalizamos cada linha com um espaço em branco:\n",
    "```python\n",
    "print(\"Texto qualquer\", end = \" \")\n",
    "```"
   ]
  },
  {
   "cell_type": "code",
   "execution_count": null,
   "id": "a60ef197",
   "metadata": {},
   "outputs": [],
   "source": [
    "## Escreva e execute seu código aqui\n",
    "# Lê os valores de N e M\n",
    "N = int(input())\n",
    "M = int(input())\n",
    "\n",
    "# Imprime o cabeçalho das colunas\n",
    "print(\" \", end=\" \")\n",
    "for coluna in range(1, M + 1):\n",
    "    print(coluna, end=\" \")\n",
    "print()\n",
    "\n",
    "# Imprime cada linha do tabuleiro\n",
    "for linha in range(1, N + 1):\n",
    "    # Imprime o número da linha no início\n",
    "    print(linha, end=\" \")\n",
    "    # Imprime as posições jogáveis na linha\n",
    "    for _ in range(M):\n",
    "        print(\"/\", end=\" \")\n",
    "    # Quebra de linha ao final de cada linha do tabuleiro\n",
    "    print()"
   ]
  },
  {
   "cell_type": "markdown",
   "id": "4654dc0b",
   "metadata": {},
   "source": [
    "---\n",
    "## Break e Continue"
   ]
  },
  {
   "cell_type": "markdown",
   "id": "24fe9d85",
   "metadata": {},
   "source": [
    "### Q6.\n",
    "\n",
    "Escreva um programa que lê uma quantidade indefinida de valores e informa o maior e o menor valor digitados. A leitura é encerrada quando o usuário digitar o valor 0 (zero).\n",
    "\n",
    "```\n",
    "Entrada:\n",
    "12\n",
    "-1\n",
    "29\n",
    "11\n",
    "-5\n",
    "0\n",
    "\n",
    "Saída:\n",
    "Maior: 29\n",
    "Menor: -5\n",
    "```"
   ]
  },
  {
   "cell_type": "code",
   "execution_count": null,
   "id": "ee1c466a",
   "metadata": {},
   "outputs": [],
   "source": [
    "## Escreva e execute seu código aqui\n",
    "maior= float('-inf')\n",
    "menor=float('inf')\n",
    "\n",
    "while True:\n",
    "    n= int(input())\n",
    "    if n == 0: break\n",
    "\n",
    "    if n>maior:\n",
    "        maior= n\n",
    "    if n < menor:\n",
    "        menor=n\n",
    "\n",
    "print(f\"O maior valor é\"{maior})\n",
    "print(f\"O menor valor é\"{menor})   "
   ]
  },
  {
   "cell_type": "markdown",
   "id": "30d486f7",
   "metadata": {},
   "source": [
    "### Q7.\n",
    "\n",
    "Escreva um programa que lê uma quantidade indefinida de valores e informa o **produto** dos valores positivos digitados. A leitura é encerrada quando o usuário digitar o valor 0 (zero).\n",
    "\n",
    "```\n",
    "Entrada:\n",
    "2\n",
    "-1\n",
    "1\n",
    "3\n",
    "-5\n",
    "0\n",
    "\n",
    "Saída:\n",
    "Produto: 6\n",
    "```"
   ]
  },
  {
   "cell_type": "code",
   "execution_count": null,
   "id": "2f1ac324",
   "metadata": {},
   "outputs": [],
   "source": [
    "## Escreva e execute seu código aqui\n",
    "produto=p=1\n",
    "\n",
    "produto=p=1\n",
    "\n",
    "while True:\n",
    "    n=int(input())\n",
    "    if n ==0: break\n",
    "    if n<0: continue\n",
    "\n",
    "    produto= p*n\n",
    "\n",
    "print(f\"O produto dos positivos:{p}\")\n"
   ]
  },
  {
   "cell_type": "markdown",
   "id": "e932f3cf",
   "metadata": {},
   "source": [
    "### Q8.\n",
    "\n",
    "Vamos fazer uma calculadora que aceita expressões aritméticas de qualquer tamanho até que o usuário digite a palavra \"Fim\". Sua calculadora executa apenas as operações \"+\", \"-\".\n",
    "\n",
    "```\n",
    "Entrada:\n",
    "5\n",
    "+\n",
    "8\n",
    "-\n",
    "3\n",
    "+\n",
    "2\n",
    "Fim\n",
    "\n",
    "Saída:\n",
    "12\n",
    "```"
   ]
  },
  {
   "cell_type": "code",
   "execution_count": null,
   "id": "e835d870",
   "metadata": {},
   "outputs": [
    {
     "name": "stdout",
     "output_type": "stream",
     "text": [
      "Digite uma expressão aritmética. Digite 'Fim' para encerrar:\n"
     ]
    }
   ],
   "source": [
    "## Escreva e execute seu código aqui\n",
    "# Inicializa o resultado com 0\n",
    "resultado = 0\n",
    "\n",
    "# Inicializa uma variável para armazenar o último operador\n",
    "operador = '+'\n",
    "\n",
    "print(\"Digite uma expressão aritmética. Digite 'Fim' para encerrar:\")\n",
    "\n",
    "while True:\n",
    "    entrada = input()\n",
    "\n",
    "    if entrada == \"Fim\":\n",
    "        break\n",
    "\n",
    "    if entrada in ['+', '-']:\n",
    "        # Se a entrada for um operador, armazena-o\n",
    "        operador = entrada\n",
    "    else:\n",
    "        # Se a entrada for um número, converte-o para inteiro e aplica a operação armazenada\n",
    "        numero = int(entrada)\n",
    "        if operador == '+':\n",
    "            resultado += numero\n",
    "        elif operador == '-':\n",
    "            resultado -= numero\n",
    "\n",
    "# Imprime o resultado final\n",
    "print(f\"Resultado: {resultado}\")"
   ]
  },
  {
   "cell_type": "code",
   "execution_count": null,
   "id": "219f2a14-242a-402d-b09a-4d691f860be6",
   "metadata": {},
   "outputs": [],
   "source": []
  }
 ],
 "metadata": {
  "kernelspec": {
   "display_name": "Python 3 (ipykernel)",
   "language": "python",
   "name": "python3"
  },
  "language_info": {
   "codemirror_mode": {
    "name": "ipython",
    "version": 3
   },
   "file_extension": ".py",
   "mimetype": "text/x-python",
   "name": "python",
   "nbconvert_exporter": "python",
   "pygments_lexer": "ipython3",
   "version": "3.11.7"
  }
 },
 "nbformat": 4,
 "nbformat_minor": 5
}
