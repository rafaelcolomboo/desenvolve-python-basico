{
 "cells": [
  {
   "cell_type": "markdown",
   "id": "0d5035b5",
   "metadata": {},
   "source": [
    "# Dicionários\n",
    "\n",
    "## Aula 8.3"
   ]
  },
  {
   "cell_type": "markdown",
   "id": "0bdece85",
   "metadata": {},
   "source": [
    "### Q1. \n",
    "\n",
    "Escreva uma função em Python chamada ```contagem_caracteres``` que recebe uma string como parâmetro e retorna um dicionário onde as chaves são os caracteres presentes na string e os valores são a contagem de cada caractere.\n"
   ]
  },
  {
   "cell_type": "code",
   "execution_count": 1,
   "id": "09a9845d",
   "metadata": {},
   "outputs": [],
   "source": [
    "# Implemente aqui a função contagem_caracteres\n",
    "def contagem_caracteres(string):\n",
    "    # Inicializar o dicionário de contagem de caracteres\n",
    "    contagem = {}\n",
    "    \n",
    "    # Iterar sobre cada caractere na string\n",
    "    for caractere in string:\n",
    "        if caractere in contagem:\n",
    "            contagem[caractere] += 1\n",
    "        else:\n",
    "            contagem[caractere] = 1\n",
    "    \n",
    "    return contagem"
   ]
  },
  {
   "cell_type": "code",
   "execution_count": 2,
   "id": "0a258eba",
   "metadata": {},
   "outputs": [
    {
     "name": "stdout",
     "output_type": "stream",
     "text": [
      "{'p': 2, 'y': 1, 't': 1, 'h': 1, 'o': 2, 'n': 2, ' ': 1, 'r': 2, 'g': 2, 'a': 1, 'm': 2, 'i': 1}\n"
     ]
    }
   ],
   "source": [
    "# Exemplo de uso:\n",
    "frase = \"python programming\"\n",
    "resultado = contagem_caracteres(frase)\n",
    "print(resultado)"
   ]
  },
  {
   "cell_type": "markdown",
   "id": "649a5082",
   "metadata": {},
   "source": [
    "### Q2. \n",
    "\n",
    "Baixe o arquivo contendo o roteiro do filme brasileiro \"Estômago\" e salve em seu computador com o nome \"estomago.txt\".\n",
    "\n",
    "https://aplauso.imprensaoficial.com.br/edicoes/12.0.813.502/12.0.813.502.txt\n",
    "\n",
    "- Escreva um script python que abre o arquivo de texto e cria um dicionário contando a quantidade de vezes que cada palavra aparece no texto.\n",
    "- Em seguida ordene o dicionário de forma decrescente pelos valores. Dessa maneira ele irá apresentar as palavras mais frequentes no início.\n",
    "- Apresente na tela o dicionário ordenado\n"
   ]
  },
  {
   "cell_type": "code",
   "execution_count": 3,
   "id": "47cb0573",
   "metadata": {},
   "outputs": [
    {
     "name": "stdout",
     "output_type": "stream",
     "text": [
      "html: 2\n",
      "not: 2\n",
      "body: 2\n",
      "headtitle404: 1\n",
      "foundtitlehead: 1\n",
      "centerh1404: 1\n",
      "foundh1center: 1\n",
      "hrcenternginxcenter: 1\n"
     ]
    }
   ],
   "source": [
    "# Implemente aqui sua solução\n",
    "import requests\n",
    "import string\n",
    "\n",
    "# Baixar o arquivo de texto\n",
    "url = \"https://aplauso.imprensaoficial.com.br/edicoes/12.0.813.502/12.0.813.502.txt\"\n",
    "response = requests.get(url)\n",
    "\n",
    "# Salvar o arquivo no disco\n",
    "with open(\"estomago.txt\", \"wb\") as file:\n",
    "    file.write(response.content)\n",
    "\n",
    "# Abrir e ler o arquivo\n",
    "with open(\"estomago.txt\", \"r\", encoding=\"utf-8\") as file:\n",
    "    texto = file.read()\n",
    "\n",
    "# Remover pontuação e converter para minúsculas\n",
    "translator = str.maketrans(\"\", \"\", string.punctuation)\n",
    "texto = texto.translate(translator).lower()\n",
    "\n",
    "# Dividir o texto em palavras\n",
    "palavras = texto.split()\n",
    "\n",
    "# Contar a quantidade de vezes que cada palavra aparece no texto\n",
    "contagem_palavras = {}\n",
    "for palavra in palavras:\n",
    "    if palavra in contagem_palavras:\n",
    "        contagem_palavras[palavra] += 1\n",
    "    else:\n",
    "        contagem_palavras[palavra] = 1\n",
    "\n",
    "# Ordenar o dicionário de forma decrescente pelos valores\n",
    "contagem_ordenada = dict(sorted(contagem_palavras.items(), key=lambda item: item[1], reverse=True))\n",
    "\n",
    "# Apresentar na tela o dicionário ordenado\n",
    "for palavra, contagem in contagem_ordenada.items():\n",
    "    print(f\"{palavra}: {contagem}\")"
   ]
  },
  {
   "cell_type": "markdown",
   "id": "bb62d219",
   "metadata": {},
   "source": [
    "### Q3. \n",
    "\n",
    "Crie uma função chamada ```mesclar_dicionarios``` que recebe dois dicionários como parâmetros e retorna um novo dicionário contendo a fusão dos dois. Se houver chaves comuns, o maior valor deve prevalecer."
   ]
  },
  {
   "cell_type": "code",
   "execution_count": 4,
   "id": "f4363612",
   "metadata": {},
   "outputs": [],
   "source": [
    "# Implemente aqui a função mesclar_dicionarios\n",
    "def mesclar_dicionarios(d1, d2):\n",
    "    # Inicializar o novo dicionário resultante\n",
    "    dicionario_resultante = {}\n",
    "\n",
    "    # Adicionar as chaves e valores do primeiro dicionário\n",
    "    for chave, valor in d1.items():\n",
    "        dicionario_resultante[chave] = valor\n",
    "\n",
    "    # Adicionar as chaves e valores do segundo dicionário, resolvendo conflitos\n",
    "    for chave, valor in d2.items():\n",
    "        if chave in dicionario_resultante:\n",
    "            dicionario_resultante[chave] = max(dicionario_resultante[chave], valor)\n",
    "        else:\n",
    "            dicionario_resultante[chave] = valor\n",
    "\n",
    "    return dicionario_resultante"
   ]
  },
  {
   "cell_type": "code",
   "execution_count": 5,
   "id": "add41556",
   "metadata": {},
   "outputs": [
    {
     "name": "stdout",
     "output_type": "stream",
     "text": [
      "{'a': 1, 'b': 4, 'c': 3, 'd': 5}\n"
     ]
    }
   ],
   "source": [
    "# Exemplo de uso:\n",
    "dicionario1 = {'a': 1, 'b': 2, 'c': 3}\n",
    "dicionario2 = {'b': 4, 'd': 5}\n",
    "resultado = mesclar_dicionarios(dicionario1, dicionario2)\n",
    "print(resultado)\n",
    "# Saída esperada: {'a': 1, 'b': 4, 'c': 3, 'd': 5}"
   ]
  },
  {
   "cell_type": "markdown",
   "id": "8710b1a7",
   "metadata": {},
   "source": [
    "### Q4.\n",
    "\n",
    "Desenvolva uma função em Python chamada ```filtrar_dicionario``` que recebe um dicionário e uma lista de chaves como parâmetros e retorna um novo dicionário contendo apenas as chaves que estão presentes na lista."
   ]
  },
  {
   "cell_type": "code",
   "execution_count": 6,
   "id": "0b7ee921",
   "metadata": {},
   "outputs": [],
   "source": [
    "# Implemente aqui a função filtrar_dicionario\n",
    "def filtrar_dicionario(dicionario, chaves):\n",
    "    # Inicializar o novo dicionário filtrado\n",
    "    dicionario_filtrado = {}\n",
    "    \n",
    "    # Iterar sobre a lista de chaves\n",
    "    for chave in chaves:\n",
    "        if chave in dicionario:\n",
    "            dicionario_filtrado[chave] = dicionario[chave]\n",
    "    \n",
    "    return dicionario_filtrado"
   ]
  },
  {
   "cell_type": "code",
   "execution_count": 7,
   "id": "ebc131f6",
   "metadata": {},
   "outputs": [
    {
     "name": "stdout",
     "output_type": "stream",
     "text": [
      "{'a': 1, 'c': 3, 'e': 5}\n"
     ]
    }
   ],
   "source": [
    "# Exemplo de uso:\n",
    "dados = {'a': 1, 'b': 2, 'c': 3, 'd': 4, 'e': 5}\n",
    "chaves_filtradas = ['a', 'c', 'e']\n",
    "resultado = filtrar_dicionario(dados, chaves_filtradas)\n",
    "print(resultado)\n",
    "# Saída esperada: {'a': 1, 'c': 3, 'e': 5}"
   ]
  },
  {
   "cell_type": "markdown",
   "id": "3203c51e",
   "metadata": {},
   "source": [
    "### Q5.\n",
    "\n",
    "Você está responsável por analisar os resultados de uma votação. Cada voto é representado por um dicionário com o nome do candidato e a quantidade de votos que recebeu em uma determinada sessão eleitoral. Escreva uma função chamada ```resultado_votacao``` que recebe uma lista de dicionários de votos e retorna um dicionário onde as chaves são os nomes dos candidatos, e os valores são tuplas ```(total, percentual)``` com o total de votos recebidos por cada candidato e o percentual em relação à soma total de votos em todos os candidatos. "
   ]
  },
  {
   "cell_type": "code",
   "execution_count": 10,
   "id": "2c856eee",
   "metadata": {},
   "outputs": [],
   "source": [
    "# Implemente aqui a função resultado_votacao\n",
    "def resultado_votacao(votos):\n",
    "    # Inicializa um dicionário para armazenar os totais de votos de cada candidato\n",
    "    total_votos = {}\n",
    "    \n",
    "    # Itera sobre cada dicionário de votos na lista\n",
    "    for sessao in votos:\n",
    "        for candidato, votos_recebidos in sessao.items():\n",
    "            if candidato in total_votos:\n",
    "                total_votos[candidato] += votos_recebidos\n",
    "            else:\n",
    "                total_votos[candidato] = votos_recebidos\n",
    "    \n",
    "    # Calcula a soma total de votos\n",
    "    soma_total_votos = sum(total_votos.values())\n",
    "    \n",
    "    # Inicializa um dicionário para armazenar os resultados finais\n",
    "    resultado_final = {}\n",
    "    \n",
    "    # Calcula o percentual de votos de cada candidato e armazena no resultado_final\n",
    "    for candidato, total in total_votos.items():\n",
    "        percentual = (total / soma_total_votos) * 100\n",
    "        resultado_final[candidato] = (total, round(percentual, 2))\n",
    "    \n",
    "    return resultado_final\n"
   ]
  },
  {
   "cell_type": "code",
   "execution_count": 11,
   "id": "ff2044de",
   "metadata": {},
   "outputs": [
    {
     "name": "stdout",
     "output_type": "stream",
     "text": [
      "{'candidato_A': (360, 40.31), 'candidato_B': (258, 28.89), 'candidato_C': (275, 30.8)}\n"
     ]
    }
   ],
   "source": [
    "# Exemplo de uso:\n",
    "votos = [\n",
    "    {'candidato_A': 120, 'candidato_B': 85, 'candidato_C': 90},\n",
    "    {'candidato_A': 110, 'candidato_B': 95, 'candidato_C': 80},\n",
    "    {'candidato_A': 130, 'candidato_B': 78, 'candidato_C': 105},\n",
    "]\n",
    "resultado = resultado_votacao(votos)\n",
    "print(resultado)  # Saída esperada: {'candidato_A': (360, 40.31), 'candidato_B': (258, 28.89), \n",
    "                                ###  'candidato_C': (275, 30.79)}"
   ]
  },
  {
   "cell_type": "code",
   "execution_count": null,
   "id": "790e17aa-73d1-46e5-b01e-518bda2b3c11",
   "metadata": {},
   "outputs": [],
   "source": []
  }
 ],
 "metadata": {
  "kernelspec": {
   "display_name": "Python 3 (ipykernel)",
   "language": "python",
   "name": "python3"
  },
  "language_info": {
   "codemirror_mode": {
    "name": "ipython",
    "version": 3
   },
   "file_extension": ".py",
   "mimetype": "text/x-python",
   "name": "python",
   "nbconvert_exporter": "python",
   "pygments_lexer": "ipython3",
   "version": "3.11.7"
  }
 },
 "nbformat": 4,
 "nbformat_minor": 5
}
